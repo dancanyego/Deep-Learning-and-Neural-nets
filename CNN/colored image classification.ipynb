{
 "cells": [
  {
   "cell_type": "code",
   "execution_count": 1,
   "id": "5f2029a0",
   "metadata": {},
   "outputs": [],
   "source": [
    "import pandas as pd\n",
    "import numpy as np\n",
    "import seaborn as sns\n",
    "\n",
    "import matplotlib.pyplot as plt \n",
    "import warnings \n",
    "import os\n",
    "\n",
    "warnings.filterwarnings('ignore')\n",
    "os.environ['KMP_DUPLICATE_LIB_OK']='True' # to prevent kernel from terminating\n",
    "%matplotlib inline"
   ]
  },
  {
   "cell_type": "code",
   "execution_count": 2,
   "id": "0db8ec28",
   "metadata": {},
   "outputs": [],
   "source": [
    "from tensorflow.keras.datasets import cifar10"
   ]
  },
  {
   "cell_type": "code",
   "execution_count": 3,
   "id": "0318ab43",
   "metadata": {},
   "outputs": [],
   "source": [
    "(X_train,y_train),(X_test,y_test) = cifar10.load_data()"
   ]
  },
  {
   "cell_type": "code",
   "execution_count": 4,
   "id": "4f9c8aab",
   "metadata": {},
   "outputs": [
    {
     "data": {
      "text/plain": [
       "(50000, 32, 32, 3)"
      ]
     },
     "execution_count": 4,
     "metadata": {},
     "output_type": "execute_result"
    }
   ],
   "source": [
    "X_train.shape"
   ]
  },
  {
   "cell_type": "code",
   "execution_count": 5,
   "id": "01cf5a06",
   "metadata": {},
   "outputs": [
    {
     "data": {
      "text/plain": [
       "(32, 32, 3)"
      ]
     },
     "execution_count": 5,
     "metadata": {},
     "output_type": "execute_result"
    }
   ],
   "source": [
    "X_train[0].shape"
   ]
  },
  {
   "cell_type": "code",
   "execution_count": 6,
   "id": "00ec6d80",
   "metadata": {},
   "outputs": [
    {
     "data": {
      "text/plain": [
       "<matplotlib.image.AxesImage at 0x2ad3ffd8c10>"
      ]
     },
     "execution_count": 6,
     "metadata": {},
     "output_type": "execute_result"
    },
    {
     "data": {
      "image/png": "[encoded data removed]",
      "text/plain": [
       "<Figure size 640x480 with 1 Axes>"
      ]
     },
     "metadata": {},
     "output_type": "display_data"
    }
   ],
   "source": [
    "plt.imshow(X_train[89])"
   ]
  },
  {
   "cell_type": "code",
   "execution_count": 7,
   "id": "de0ccacd",
   "metadata": {},
   "outputs": [],
   "source": [
    "# Preprocessing"
   ]
  },
  {
   "cell_type": "code",
   "execution_count": 8,
   "id": "23f18fab",
   "metadata": {},
   "outputs": [],
   "source": [
    "X_train = X_train/255\n",
    "X_test = X_test/255"
   ]
  },
  {
   "cell_type": "code",
   "execution_count": 9,
   "id": "0af6065f",
   "metadata": {},
   "outputs": [
    {
     "data": {
      "text/plain": [
       "(10000, 32, 32, 3)"
      ]
     },
     "execution_count": 9,
     "metadata": {},
     "output_type": "execute_result"
    }
   ],
   "source": [
    "X_test.shape"
   ]
  },
  {
   "cell_type": "code",
   "execution_count": 10,
   "id": "c9e723d6",
   "metadata": {},
   "outputs": [
    {
     "data": {
      "text/plain": [
       "array([[6],\n",
       "       [9],\n",
       "       [9],\n",
       "       ...,\n",
       "       [9],\n",
       "       [1],\n",
       "       [1]], dtype=uint8)"
      ]
     },
     "execution_count": 10,
     "metadata": {},
     "output_type": "execute_result"
    }
   ],
   "source": [
    "y_train"
   ]
  },
  {
   "cell_type": "code",
   "execution_count": 11,
   "id": "26332416",
   "metadata": {},
   "outputs": [],
   "source": [
    "## transforming to categorical"
   ]
  },
  {
   "cell_type": "code",
   "execution_count": 12,
   "id": "352f24d9",
   "metadata": {},
   "outputs": [],
   "source": [
    "from tensorflow.keras.utils import to_categorical"
   ]
  },
  {
   "cell_type": "code",
   "execution_count": 13,
   "id": "b5812986",
   "metadata": {},
   "outputs": [],
   "source": [
    "y_cat_train = to_categorical(y_train)\n",
    "y_cat_test = to_categorical(y_test)"
   ]
  },
  {
   "cell_type": "code",
   "execution_count": 14,
   "id": "b6158151",
   "metadata": {},
   "outputs": [],
   "source": [
    "## Creating the model"
   ]
  },
  {
   "cell_type": "code",
   "execution_count": 15,
   "id": "3b58fcd5",
   "metadata": {},
   "outputs": [],
   "source": [
    "from tensorflow.keras.models import Sequential\n",
    "from tensorflow.keras.layers import Dense,Conv2D,MaxPool2D,Flatten"
   ]
  },
  {
   "cell_type": "code",
   "execution_count": 16,
   "id": "2b4fc55c",
   "metadata": {},
   "outputs": [],
   "source": [
    "model = Sequential()\n",
    "#Convolution layer\n",
    "model.add(Conv2D(filters=32,kernel_size=(4,4),\n",
    "                input_shape=(32,32,3),activation='relu'))\n",
    "#pooling layer\n",
    "model.add(MaxPool2D(pool_size=(2,2)))\n",
    "\n",
    "#Convolution layer\n",
    "model.add(Conv2D(filters=32,kernel_size=(4,4),\n",
    "                input_shape=(32,32,3),activation='relu'))\n",
    "#pooling layer\n",
    "model.add(MaxPool2D(pool_size=(2,2)))\n",
    "\n",
    "#Flatten images\n",
    "model.add(Flatten())\n",
    "\n",
    "model.add(Dense(256,activation='relu'))\n",
    "\n",
    "model.add(Dense(10,activation='softmax'))\n",
    "\n",
    "model.compile(loss='categorical_crossentropy',optimizer='adam',metrics='accuracy')"
   ]
  },
  {
   "cell_type": "code",
   "execution_count": 17,
   "id": "049f6152",
   "metadata": {},
   "outputs": [
    {
     "name": "stdout",
     "output_type": "stream",
     "text": [
      "Model: \"sequential\"\n",
      "_________________________________________________________________\n",
      " Layer (type)                Output Shape              Param #   \n",
      "=================================================================\n",
      " conv2d (Conv2D)             (None, 29, 29, 32)        1568      \n",
      "                                                                 \n",
      " max_pooling2d (MaxPooling2D  (None, 14, 14, 32)       0         \n",
      " )                                                               \n",
      "                                                                 \n",
      " conv2d_1 (Conv2D)           (None, 11, 11, 32)        16416     \n",
      "                                                                 \n",
      " max_pooling2d_1 (MaxPooling  (None, 5, 5, 32)         0         \n",
      " 2D)                                                             \n",
      "                                                                 \n",
      " flatten (Flatten)           (None, 800)               0         \n",
      "                                                                 \n",
      " dense (Dense)               (None, 256)               205056    \n",
      "                                                                 \n",
      " dense_1 (Dense)             (None, 10)                2570      \n",
      "                                                                 \n",
      "=================================================================\n",
      "Total params: 225,610\n",
      "Trainable params: 225,610\n",
      "Non-trainable params: 0\n",
      "_________________________________________________________________\n"
     ]
    }
   ],
   "source": [
    "model.summary()"
   ]
  },
  {
   "cell_type": "code",
   "execution_count": 18,
   "id": "d53ae091",
   "metadata": {},
   "outputs": [],
   "source": [
    "## Using early stopping"
   ]
  },
  {
   "cell_type": "code",
   "execution_count": 19,
   "id": "f4d2f31e",
   "metadata": {},
   "outputs": [],
   "source": [
    "from tensorflow.keras.callbacks import EarlyStopping"
   ]
  },
  {
   "cell_type": "code",
   "execution_count": 20,
   "id": "bbfaccba",
   "metadata": {},
   "outputs": [],
   "source": [
    "early_stop = EarlyStopping(monitor='val_loss',patience=2)"
   ]
  },
  {
   "cell_type": "code",
   "execution_count": 21,
   "id": "89322400",
   "metadata": {},
   "outputs": [
    {
     "name": "stdout",
     "output_type": "stream",
     "text": [
      "Epoch 1/20\n",
      "1563/1563 [==============================] - 43s 26ms/step - loss: 1.5035 - accuracy: 0.4556 - val_loss: 1.3606 - val_accuracy: 0.5233\n",
      "Epoch 2/20\n",
      "1563/1563 [==============================] - 43s 27ms/step - loss: 1.1714 - accuracy: 0.5875 - val_loss: 1.1742 - val_accuracy: 0.5895\n",
      "Epoch 3/20\n",
      "1563/1563 [==============================] - 34s 22ms/step - loss: 1.0187 - accuracy: 0.6435 - val_loss: 1.0132 - val_accuracy: 0.6431\n",
      "Epoch 4/20\n",
      "1563/1563 [==============================] - 34s 22ms/step - loss: 0.9117 - accuracy: 0.6809 - val_loss: 0.9923 - val_accuracy: 0.6507\n",
      "Epoch 5/20\n",
      "1563/1563 [==============================] - 35s 22ms/step - loss: 0.8223 - accuracy: 0.7144 - val_loss: 0.9451 - val_accuracy: 0.6809\n",
      "Epoch 6/20\n",
      "1563/1563 [==============================] - 36s 23ms/step - loss: 0.7405 - accuracy: 0.7403 - val_loss: 0.9712 - val_accuracy: 0.6721\n",
      "Epoch 7/20\n",
      "1563/1563 [==============================] - 36s 23ms/step - loss: 0.6748 - accuracy: 0.7643 - val_loss: 0.9701 - val_accuracy: 0.6856\n"
     ]
    },
    {
     "data": {
      "text/plain": [
       "<keras.callbacks.History at 0x2ad37252790>"
      ]
     },
     "execution_count": 21,
     "metadata": {},
     "output_type": "execute_result"
    }
   ],
   "source": [
    "model.fit(X_train,y_cat_train,epochs=20,\n",
    "         validation_data=(X_test,y_cat_test),callbacks=early_stop)"
   ]
  },
  {
   "cell_type": "code",
   "execution_count": 22,
   "id": "f715cf66",
   "metadata": {},
   "outputs": [],
   "source": [
    "# Evaluations"
   ]
  },
  {
   "cell_type": "code",
   "execution_count": 23,
   "id": "6d1ac220",
   "metadata": {},
   "outputs": [],
   "source": [
    "metrics = pd.DataFrame(model.history.history)"
   ]
  },
  {
   "cell_type": "code",
   "execution_count": 24,
   "id": "5b677396",
   "metadata": {},
   "outputs": [
    {
     "data": {
      "text/html": [
       "<div>\n",
       "<style scoped>\n",
       "    .dataframe tbody tr th:only-of-type {\n",
       "        vertical-align: middle;\n",
       "    }\n",
       "\n",
       "    .dataframe tbody tr th {\n",
       "        vertical-align: top;\n",
       "    }\n",
       "\n",
       "    .dataframe thead th {\n",
       "        text-align: right;\n",
       "    }\n",
       "</style>\n",
       "<table border=\"1\" class=\"dataframe\">\n",
       "  <thead>\n",
       "    <tr style=\"text-align: right;\">\n",
       "      <th></th>\n",
       "      <th>loss</th>\n",
       "      <th>accuracy</th>\n",
       "      <th>val_loss</th>\n",
       "      <th>val_accuracy</th>\n",
       "    </tr>\n",
       "  </thead>\n",
       "  <tbody>\n",
       "    <tr>\n",
       "      <th>0</th>\n",
       "      <td>1.503507</td>\n",
       "      <td>0.45556</td>\n",
       "      <td>1.360641</td>\n",
       "      <td>0.5233</td>\n",
       "    </tr>\n",
       "    <tr>\n",
       "      <th>1</th>\n",
       "      <td>1.171351</td>\n",
       "      <td>0.58750</td>\n",
       "      <td>1.174188</td>\n",
       "      <td>0.5895</td>\n",
       "    </tr>\n",
       "    <tr>\n",
       "      <th>2</th>\n",
       "      <td>1.018662</td>\n",
       "      <td>0.64354</td>\n",
       "      <td>1.013169</td>\n",
       "      <td>0.6431</td>\n",
       "    </tr>\n",
       "    <tr>\n",
       "      <th>3</th>\n",
       "      <td>0.911673</td>\n",
       "      <td>0.68086</td>\n",
       "      <td>0.992334</td>\n",
       "      <td>0.6507</td>\n",
       "    </tr>\n",
       "    <tr>\n",
       "      <th>4</th>\n",
       "      <td>0.822279</td>\n",
       "      <td>0.71436</td>\n",
       "      <td>0.945135</td>\n",
       "      <td>0.6809</td>\n",
       "    </tr>\n",
       "    <tr>\n",
       "      <th>5</th>\n",
       "      <td>0.740548</td>\n",
       "      <td>0.74032</td>\n",
       "      <td>0.971206</td>\n",
       "      <td>0.6721</td>\n",
       "    </tr>\n",
       "    <tr>\n",
       "      <th>6</th>\n",
       "      <td>0.674772</td>\n",
       "      <td>0.76426</td>\n",
       "      <td>0.970116</td>\n",
       "      <td>0.6856</td>\n",
       "    </tr>\n",
       "  </tbody>\n",
       "</table>\n",
       "</div>"
      ],
      "text/plain": [
       "       loss  accuracy  val_loss  val_accuracy\n",
       "0  1.503507   0.45556  1.360641        0.5233\n",
       "1  1.171351   0.58750  1.174188        0.5895\n",
       "2  1.018662   0.64354  1.013169        0.6431\n",
       "3  0.911673   0.68086  0.992334        0.6507\n",
       "4  0.822279   0.71436  0.945135        0.6809\n",
       "5  0.740548   0.74032  0.971206        0.6721\n",
       "6  0.674772   0.76426  0.970116        0.6856"
      ]
     },
     "execution_count": 24,
     "metadata": {},
     "output_type": "execute_result"
    }
   ],
   "source": [
    "metrics"
   ]
  },
  {
   "cell_type": "code",
   "execution_count": 25,
   "id": "437da39c",
   "metadata": {},
   "outputs": [
    {
     "data": {
      "text/plain": [
       "Index(['loss', 'accuracy', 'val_loss', 'val_accuracy'], dtype='object')"
      ]
     },
     "execution_count": 25,
     "metadata": {},
     "output_type": "execute_result"
    }
   ],
   "source": [
    "metrics.columns"
   ]
  },
  {
   "cell_type": "code",
   "execution_count": 26,
   "id": "f4681ae1",
   "metadata": {},
   "outputs": [
    {
     "data": {
      "text/plain": [
       "<Axes: >"
      ]
     },
     "execution_count": 26,
     "metadata": {},
     "output_type": "execute_result"
    },
    {
     "data": {
      "image/png": "[encoded data removed]",
      "text/plain": [
       "<Figure size 640x480 with 1 Axes>"
      ]
     },
     "metadata": {},
     "output_type": "display_data"
    }
   ],
   "source": [
    "metrics.plot()"
   ]
  },
  {
   "cell_type": "code",
   "execution_count": 27,
   "id": "ae036f5d",
   "metadata": {},
   "outputs": [
    {
     "data": {
      "text/plain": [
       "<Axes: >"
      ]
     },
     "execution_count": 27,
     "metadata": {},
     "output_type": "execute_result"
    },
    {
     "data": {
      "image/png": "[encoded data removed]",
      "text/plain": [
       "<Figure size 640x480 with 1 Axes>"
      ]
     },
     "metadata": {},
     "output_type": "display_data"
    }
   ],
   "source": [
    "metrics[['loss','val_loss']].plot()"
   ]
  },
  {
   "cell_type": "code",
   "execution_count": 28,
   "id": "ef7db1ea",
   "metadata": {},
   "outputs": [
    {
     "data": {
      "text/plain": [
       "<Axes: >"
      ]
     },
     "execution_count": 28,
     "metadata": {},
     "output_type": "execute_result"
    },
    {
     "data": {
      "image/png": "[encoded data removed]",
      "text/plain": [
       "<Figure size 640x480 with 1 Axes>"
      ]
     },
     "metadata": {},
     "output_type": "display_data"
    }
   ],
   "source": [
    "metrics[['accuracy','val_accuracy']].plot()"
   ]
  },
  {
   "cell_type": "code",
   "execution_count": 29,
   "id": "701ef27c",
   "metadata": {},
   "outputs": [],
   "source": [
    "# Classification report and confussion matrix"
   ]
  },
  {
   "cell_type": "code",
   "execution_count": 30,
   "id": "d7c27a6e",
   "metadata": {},
   "outputs": [],
   "source": [
    "from sklearn.metrics import classification_report,confusion_matrix"
   ]
  },
  {
   "cell_type": "code",
   "execution_count": 31,
   "id": "99feb4a5",
   "metadata": {},
   "outputs": [
    {
     "name": "stdout",
     "output_type": "stream",
     "text": [
      "313/313 [==============================] - 2s 6ms/step\n"
     ]
    }
   ],
   "source": [
    "pred = model.predict(X_test).argmax(axis=-1)"
   ]
  },
  {
   "cell_type": "code",
   "execution_count": 32,
   "id": "4fcfdba8",
   "metadata": {},
   "outputs": [
    {
     "name": "stdout",
     "output_type": "stream",
     "text": [
      "              precision    recall  f1-score   support\n",
      "\n",
      "           0       0.67      0.78      0.72      1000\n",
      "           1       0.82      0.78      0.80      1000\n",
      "           2       0.71      0.45      0.55      1000\n",
      "           3       0.48      0.53      0.51      1000\n",
      "           4       0.67      0.62      0.64      1000\n",
      "           5       0.59      0.58      0.58      1000\n",
      "           6       0.77      0.76      0.76      1000\n",
      "           7       0.74      0.73      0.74      1000\n",
      "           8       0.71      0.85      0.77      1000\n",
      "           9       0.73      0.78      0.75      1000\n",
      "\n",
      "    accuracy                           0.69     10000\n",
      "   macro avg       0.69      0.69      0.68     10000\n",
      "weighted avg       0.69      0.69      0.68     10000\n",
      "\n"
     ]
    }
   ],
   "source": [
    "print(classification_report(y_test,pred))"
   ]
  },
  {
   "cell_type": "code",
   "execution_count": 33,
   "id": "1c9d1892",
   "metadata": {},
   "outputs": [
    {
     "name": "stdout",
     "output_type": "stream",
     "text": [
      "[[778  19  20  18  13   5   8   6  98  35]\n",
      " [ 30 782   2  10   3   2  10   2  55 104]\n",
      " [103  10 445 102  96  92  65  38  30  19]\n",
      " [ 36  12  26 532  56 176  49  37  46  30]\n",
      " [ 40   7  37  89 617  39  53  88  17  13]\n",
      " [ 28   5  39 198  40 583  22  55  19  11]\n",
      " [ 13  12  27  76  42  27 759  13  16  15]\n",
      " [ 34   4  22  59  44  56   4 730   7  40]\n",
      " [ 58  26   7  12   3   9   8   1 852  24]\n",
      " [ 37  77   3   8   8   6   7  13  63 778]]\n"
     ]
    }
   ],
   "source": [
    "print(confusion_matrix(y_test,pred))"
   ]
  },
  {
   "cell_type": "code",
   "execution_count": 34,
   "id": "4076b777",
   "metadata": {},
   "outputs": [],
   "source": [
    "## Predicting on a single image"
   ]
  },
  {
   "cell_type": "code",
   "execution_count": 35,
   "id": "c0cbb481",
   "metadata": {},
   "outputs": [],
   "source": [
    "my_image = X_test[7]"
   ]
  },
  {
   "cell_type": "code",
   "execution_count": 36,
   "id": "3cddef03",
   "metadata": {},
   "outputs": [
    {
     "data": {
      "text/plain": [
       "<matplotlib.image.AxesImage at 0x2ad3cbac970>"
      ]
     },
     "execution_count": 36,
     "metadata": {},
     "output_type": "execute_result"
    },
    {
     "data": {
      "image/png": "[encoded data removed]",
      "text/plain": [
       "<Figure size 640x480 with 1 Axes>"
      ]
     },
     "metadata": {},
     "output_type": "display_data"
    }
   ],
   "source": [
    "plt.imshow(my_image)"
   ]
  },
  {
   "cell_type": "code",
   "execution_count": 37,
   "id": "05108e44",
   "metadata": {},
   "outputs": [
    {
     "data": {
      "text/plain": [
       "array([6], dtype=uint8)"
      ]
     },
     "execution_count": 37,
     "metadata": {},
     "output_type": "execute_result"
    }
   ],
   "source": [
    "y_test[7]"
   ]
  },
  {
   "cell_type": "code",
   "execution_count": 38,
   "id": "ae4c4ad3",
   "metadata": {},
   "outputs": [
    {
     "name": "stdout",
     "output_type": "stream",
     "text": [
      "1/1 [==============================] - 0s 39ms/step\n"
     ]
    },
    {
     "data": {
      "text/plain": [
       "array([6], dtype=int64)"
      ]
     },
     "execution_count": 38,
     "metadata": {},
     "output_type": "execute_result"
    }
   ],
   "source": [
    "model.predict(my_image.reshape(1,32,32,3)).argmax(axis=-1) "
   ]
  },
  {
   "cell_type": "code",
   "execution_count": 39,
   "id": "bf084b45",
   "metadata": {},
   "outputs": [],
   "source": [
    "## The model predicted correctly as seen on y_test"
   ]
  },
  {
   "cell_type": "code",
   "execution_count": null,
   "id": "15aa2f6f",
   "metadata": {},
   "outputs": [],
   "source": []
  }
 ],
 "metadata": {
  "kernelspec": {
   "display_name": "Python 3 (ipykernel)",
   "language": "python",
   "name": "python3"
  },
  "language_info": {
   "codemirror_mode": {
    "name": "ipython",
    "version": 3
   },
   "file_extension": ".py",
   "mimetype": "text/x-python",
   "name": "python",
   "nbconvert_exporter": "python",
   "pygments_lexer": "ipython3",
   "version": "3.9.13"
  }
 },
 "nbformat": 4,
 "nbformat_minor": 5
}
