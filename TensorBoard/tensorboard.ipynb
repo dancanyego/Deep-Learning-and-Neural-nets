{
 "cells": [
  {
   "cell_type": "code",
   "execution_count": 1,
   "id": "e4ad18de",
   "metadata": {},
   "outputs": [],
   "source": [
    "import pandas as pd\n",
    "import numpy as np"
   ]
  },
  {
   "cell_type": "code",
   "execution_count": 2,
   "id": "cc1d4b0d",
   "metadata": {},
   "outputs": [],
   "source": [
    "df = pd.read_csv('../DATA/cancer_classification.csv')"
   ]
  },
  {
   "cell_type": "code",
   "execution_count": 3,
   "id": "bd304909",
   "metadata": {},
   "outputs": [],
   "source": [
    "X = df.drop('benign_0__mal_1',axis=1).values\n",
    "y = df['benign_0__mal_1'].values"
   ]
  },
  {
   "cell_type": "code",
   "execution_count": 4,
   "id": "eda26c94",
   "metadata": {},
   "outputs": [],
   "source": [
    "from sklearn.model_selection import train_test_split"
   ]
  },
  {
   "cell_type": "code",
   "execution_count": 5,
   "id": "6533df62",
   "metadata": {},
   "outputs": [],
   "source": [
    "X_train, X_test, y_train, y_test = train_test_split(X,y,test_size=0.25,random_state=101)"
   ]
  },
  {
   "cell_type": "code",
   "execution_count": 6,
   "id": "f695b5f2",
   "metadata": {},
   "outputs": [],
   "source": [
    "from sklearn.preprocessing import MinMaxScaler"
   ]
  },
  {
   "cell_type": "code",
   "execution_count": 7,
   "id": "cd71a408",
   "metadata": {},
   "outputs": [],
   "source": [
    "scaler = MinMaxScaler()"
   ]
  },
  {
   "cell_type": "code",
   "execution_count": 8,
   "id": "3b37d90b",
   "metadata": {},
   "outputs": [
    {
     "data": {
      "text/plain": [
       "MinMaxScaler()"
      ]
     },
     "execution_count": 8,
     "metadata": {},
     "output_type": "execute_result"
    }
   ],
   "source": [
    "scaler.fit(X_train)"
   ]
  },
  {
   "cell_type": "code",
   "execution_count": 9,
   "id": "b483e1af",
   "metadata": {},
   "outputs": [],
   "source": [
    "X_train = scaler.transform(X_train)\n",
    "X_test = scaler.transform(X_test)"
   ]
  },
  {
   "cell_type": "code",
   "execution_count": 11,
   "id": "a4774514",
   "metadata": {},
   "outputs": [],
   "source": [
    "import tensorflow as tf\n",
    "from tensorflow.keras.models import Sequential\n",
    "from tensorflow.keras.layers import Dense, Activation,Dropout\n",
    "from tensorflow.keras.callbacks import EarlyStopping,TensorBoard\n",
    "early_stop = EarlyStopping(monitor='val_loss', mode='min', verbose=1, patience=25)\n"
   ]
  },
  {
   "cell_type": "code",
   "execution_count": 12,
   "id": "089c0aa7",
   "metadata": {},
   "outputs": [
    {
     "data": {
      "text/plain": [
       "'C:\\\\Users\\\\danca\\\\Music\\\\DS boot\\\\Deel Learning and neural net\\\\TensorBoard'"
      ]
     },
     "execution_count": 12,
     "metadata": {},
     "output_type": "execute_result"
    }
   ],
   "source": [
    "pwd"
   ]
  },
  {
   "cell_type": "code",
   "execution_count": 13,
   "id": "494a86e6",
   "metadata": {},
   "outputs": [],
   "source": [
    "from datetime import datetime"
   ]
  },
  {
   "cell_type": "code",
   "execution_count": 14,
   "id": "ef02c59c",
   "metadata": {},
   "outputs": [
    {
     "data": {
      "text/plain": [
       "'2023-07-05--1326'"
      ]
     },
     "execution_count": 14,
     "metadata": {},
     "output_type": "execute_result"
    }
   ],
   "source": [
    "datetime.now().strftime(\"%Y-%m-%d--%H%M\")"
   ]
  },
  {
   "cell_type": "code",
   "execution_count": 15,
   "id": "5f0fe331",
   "metadata": {},
   "outputs": [],
   "source": [
    "log_directory = 'logs\\\\fit'\n",
    "\n",
    "board = TensorBoard(log_dir=log_directory,histogram_freq=1,\n",
    "    write_graph=True,\n",
    "    write_images=True,\n",
    "    update_freq='epoch',\n",
    "    profile_batch=2,\n",
    "    embeddings_freq=1)"
   ]
  },
  {
   "cell_type": "code",
   "execution_count": 16,
   "id": "b1210e94",
   "metadata": {},
   "outputs": [],
   "source": [
    "model = Sequential()\n",
    "model.add(Dense(units=30,activation='relu'))\n",
    "model.add(Dropout(0.5))\n",
    "model.add(Dense(units=15,activation='relu'))\n",
    "model.add(Dropout(0.5))\n",
    "model.add(Dense(units=1,activation='sigmoid'))\n",
    "model.compile(loss='binary_crossentropy', optimizer='adam')"
   ]
  },
  {
   "cell_type": "code",
   "execution_count": 17,
   "id": "ecc137ea",
   "metadata": {},
   "outputs": [],
   "source": [
    "# Train model"
   ]
  },
  {
   "cell_type": "code",
   "execution_count": 18,
   "id": "69bacc3a",
   "metadata": {},
   "outputs": [
    {
     "name": "stdout",
     "output_type": "stream",
     "text": [
      "Epoch 1/600\n",
      "14/14 [==============================] - 3s 91ms/step - loss: 0.7092 - val_loss: 0.6839\n",
      "Epoch 2/600\n",
      "14/14 [==============================] - 0s 26ms/step - loss: 0.6854 - val_loss: 0.6606\n",
      "Epoch 3/600\n",
      "14/14 [==============================] - 0s 26ms/step - loss: 0.6800 - val_loss: 0.6388\n",
      "Epoch 4/600\n",
      "14/14 [==============================] - 0s 28ms/step - loss: 0.6333 - val_loss: 0.6122\n",
      "Epoch 5/600\n",
      "14/14 [==============================] - 0s 29ms/step - loss: 0.6244 - val_loss: 0.5838\n",
      "Epoch 6/600\n",
      "14/14 [==============================] - 0s 26ms/step - loss: 0.5840 - val_loss: 0.5416\n",
      "Epoch 7/600\n",
      "14/14 [==============================] - 0s 27ms/step - loss: 0.5716 - val_loss: 0.5052\n",
      "Epoch 8/600\n",
      "14/14 [==============================] - 0s 28ms/step - loss: 0.5405 - val_loss: 0.4700\n",
      "Epoch 9/600\n",
      "14/14 [==============================] - 0s 27ms/step - loss: 0.5293 - val_loss: 0.4395\n",
      "Epoch 10/600\n",
      "14/14 [==============================] - 0s 27ms/step - loss: 0.5036 - val_loss: 0.4112\n",
      "Epoch 11/600\n",
      "14/14 [==============================] - 0s 28ms/step - loss: 0.4693 - val_loss: 0.3793\n",
      "Epoch 12/600\n",
      "14/14 [==============================] - 0s 27ms/step - loss: 0.4499 - val_loss: 0.3559\n",
      "Epoch 13/600\n",
      "14/14 [==============================] - 0s 27ms/step - loss: 0.4412 - val_loss: 0.3344\n",
      "Epoch 14/600\n",
      "14/14 [==============================] - 0s 27ms/step - loss: 0.4142 - val_loss: 0.3091\n",
      "Epoch 15/600\n",
      "14/14 [==============================] - 0s 28ms/step - loss: 0.4024 - val_loss: 0.2885\n",
      "Epoch 16/600\n",
      "14/14 [==============================] - 0s 28ms/step - loss: 0.3514 - val_loss: 0.2689\n",
      "Epoch 17/600\n",
      "14/14 [==============================] - 0s 27ms/step - loss: 0.3739 - val_loss: 0.2548\n",
      "Epoch 18/600\n",
      "14/14 [==============================] - 0s 27ms/step - loss: 0.3600 - val_loss: 0.2452\n",
      "Epoch 19/600\n",
      "14/14 [==============================] - 0s 27ms/step - loss: 0.3213 - val_loss: 0.2315\n",
      "Epoch 20/600\n",
      "14/14 [==============================] - 0s 27ms/step - loss: 0.3281 - val_loss: 0.2201\n",
      "Epoch 21/600\n",
      "14/14 [==============================] - 0s 28ms/step - loss: 0.3051 - val_loss: 0.2094\n",
      "Epoch 22/600\n",
      "14/14 [==============================] - 0s 28ms/step - loss: 0.3091 - val_loss: 0.2042\n",
      "Epoch 23/600\n",
      "14/14 [==============================] - 0s 27ms/step - loss: 0.3003 - val_loss: 0.1995\n",
      "Epoch 24/600\n",
      "14/14 [==============================] - 0s 27ms/step - loss: 0.2850 - val_loss: 0.1947\n",
      "Epoch 25/600\n",
      "14/14 [==============================] - 0s 28ms/step - loss: 0.2652 - val_loss: 0.1793\n",
      "Epoch 26/600\n",
      "14/14 [==============================] - 0s 27ms/step - loss: 0.2330 - val_loss: 0.1709\n",
      "Epoch 27/600\n",
      "14/14 [==============================] - 0s 26ms/step - loss: 0.2832 - val_loss: 0.1675\n",
      "Epoch 28/600\n",
      "14/14 [==============================] - 0s 25ms/step - loss: 0.2672 - val_loss: 0.1594\n",
      "Epoch 29/600\n",
      "14/14 [==============================] - 0s 27ms/step - loss: 0.2546 - val_loss: 0.1604\n",
      "Epoch 30/600\n",
      "14/14 [==============================] - 0s 25ms/step - loss: 0.2296 - val_loss: 0.1611\n",
      "Epoch 31/600\n",
      "14/14 [==============================] - 0s 26ms/step - loss: 0.2203 - val_loss: 0.1457\n",
      "Epoch 32/600\n",
      "14/14 [==============================] - 0s 26ms/step - loss: 0.2044 - val_loss: 0.1448\n",
      "Epoch 33/600\n",
      "14/14 [==============================] - 0s 25ms/step - loss: 0.2209 - val_loss: 0.1443\n",
      "Epoch 34/600\n",
      "14/14 [==============================] - 0s 26ms/step - loss: 0.1990 - val_loss: 0.1362\n",
      "Epoch 35/600\n",
      "14/14 [==============================] - 0s 26ms/step - loss: 0.2090 - val_loss: 0.1344\n",
      "Epoch 36/600\n",
      "14/14 [==============================] - 0s 26ms/step - loss: 0.2217 - val_loss: 0.1306\n",
      "Epoch 37/600\n",
      "14/14 [==============================] - 0s 25ms/step - loss: 0.1794 - val_loss: 0.1233\n",
      "Epoch 38/600\n",
      "14/14 [==============================] - 0s 26ms/step - loss: 0.1841 - val_loss: 0.1376\n",
      "Epoch 39/600\n",
      "14/14 [==============================] - 0s 25ms/step - loss: 0.2078 - val_loss: 0.1189\n",
      "Epoch 40/600\n",
      "14/14 [==============================] - 0s 27ms/step - loss: 0.2155 - val_loss: 0.1154\n",
      "Epoch 41/600\n",
      "14/14 [==============================] - 0s 26ms/step - loss: 0.2121 - val_loss: 0.1336\n",
      "Epoch 42/600\n",
      "14/14 [==============================] - 0s 26ms/step - loss: 0.2112 - val_loss: 0.1180\n",
      "Epoch 43/600\n",
      "14/14 [==============================] - 0s 25ms/step - loss: 0.1881 - val_loss: 0.1263\n",
      "Epoch 44/600\n",
      "14/14 [==============================] - 0s 26ms/step - loss: 0.1699 - val_loss: 0.1206\n",
      "Epoch 45/600\n",
      "14/14 [==============================] - 0s 26ms/step - loss: 0.1536 - val_loss: 0.1161\n",
      "Epoch 46/600\n",
      "14/14 [==============================] - 0s 25ms/step - loss: 0.1772 - val_loss: 0.1149\n",
      "Epoch 47/600\n",
      "14/14 [==============================] - 0s 26ms/step - loss: 0.1410 - val_loss: 0.1140\n",
      "Epoch 48/600\n",
      "14/14 [==============================] - 0s 25ms/step - loss: 0.1527 - val_loss: 0.1122\n",
      "Epoch 49/600\n",
      "14/14 [==============================] - 0s 27ms/step - loss: 0.1685 - val_loss: 0.1073\n",
      "Epoch 50/600\n",
      "14/14 [==============================] - 0s 28ms/step - loss: 0.1659 - val_loss: 0.1140\n",
      "Epoch 51/600\n",
      "14/14 [==============================] - 0s 27ms/step - loss: 0.1373 - val_loss: 0.1088\n",
      "Epoch 52/600\n",
      "14/14 [==============================] - 0s 29ms/step - loss: 0.1346 - val_loss: 0.0996\n",
      "Epoch 53/600\n",
      "14/14 [==============================] - 0s 27ms/step - loss: 0.1559 - val_loss: 0.1042\n",
      "Epoch 54/600\n",
      "14/14 [==============================] - 0s 26ms/step - loss: 0.1341 - val_loss: 0.1005\n",
      "Epoch 55/600\n",
      "14/14 [==============================] - 0s 27ms/step - loss: 0.1345 - val_loss: 0.1032\n",
      "Epoch 56/600\n",
      "14/14 [==============================] - 0s 28ms/step - loss: 0.1494 - val_loss: 0.1004\n",
      "Epoch 57/600\n",
      "14/14 [==============================] - 0s 27ms/step - loss: 0.1289 - val_loss: 0.0995\n",
      "Epoch 58/600\n",
      "14/14 [==============================] - 0s 27ms/step - loss: 0.1355 - val_loss: 0.1094\n",
      "Epoch 59/600\n",
      "14/14 [==============================] - 0s 28ms/step - loss: 0.1334 - val_loss: 0.0983\n",
      "Epoch 60/600\n",
      "14/14 [==============================] - 0s 27ms/step - loss: 0.1314 - val_loss: 0.0959\n",
      "Epoch 61/600\n",
      "14/14 [==============================] - 0s 27ms/step - loss: 0.1429 - val_loss: 0.1003\n",
      "Epoch 62/600\n",
      "14/14 [==============================] - 0s 26ms/step - loss: 0.1340 - val_loss: 0.0943\n",
      "Epoch 63/600\n",
      "14/14 [==============================] - 0s 27ms/step - loss: 0.1200 - val_loss: 0.1041\n",
      "Epoch 64/600\n",
      "14/14 [==============================] - 0s 26ms/step - loss: 0.1179 - val_loss: 0.1003\n",
      "Epoch 65/600\n",
      "14/14 [==============================] - 0s 28ms/step - loss: 0.1261 - val_loss: 0.0889\n",
      "Epoch 66/600\n",
      "14/14 [==============================] - 1s 41ms/step - loss: 0.1250 - val_loss: 0.0964\n",
      "Epoch 67/600\n",
      "14/14 [==============================] - 0s 32ms/step - loss: 0.1238 - val_loss: 0.0978\n",
      "Epoch 68/600\n",
      "14/14 [==============================] - 0s 27ms/step - loss: 0.1123 - val_loss: 0.1019\n",
      "Epoch 69/600\n",
      "14/14 [==============================] - 0s 32ms/step - loss: 0.1123 - val_loss: 0.0894\n",
      "Epoch 70/600\n",
      "14/14 [==============================] - 0s 29ms/step - loss: 0.1089 - val_loss: 0.0880\n",
      "Epoch 71/600\n",
      "14/14 [==============================] - 0s 28ms/step - loss: 0.1113 - val_loss: 0.0874\n",
      "Epoch 72/600\n",
      "14/14 [==============================] - 0s 34ms/step - loss: 0.1218 - val_loss: 0.0861\n",
      "Epoch 73/600\n",
      "14/14 [==============================] - 0s 30ms/step - loss: 0.1253 - val_loss: 0.1007\n",
      "Epoch 74/600\n",
      "14/14 [==============================] - 0s 26ms/step - loss: 0.1161 - val_loss: 0.0849\n",
      "Epoch 75/600\n",
      "14/14 [==============================] - 0s 31ms/step - loss: 0.1359 - val_loss: 0.0966\n",
      "Epoch 76/600\n",
      "14/14 [==============================] - 0s 34ms/step - loss: 0.1234 - val_loss: 0.0861\n",
      "Epoch 77/600\n",
      "14/14 [==============================] - 0s 34ms/step - loss: 0.1119 - val_loss: 0.0870\n",
      "Epoch 78/600\n",
      "14/14 [==============================] - 0s 31ms/step - loss: 0.1132 - val_loss: 0.0929\n",
      "Epoch 79/600\n",
      "14/14 [==============================] - 0s 33ms/step - loss: 0.1162 - val_loss: 0.1077\n",
      "Epoch 80/600\n",
      "14/14 [==============================] - 0s 27ms/step - loss: 0.1141 - val_loss: 0.0970\n",
      "Epoch 81/600\n",
      "14/14 [==============================] - 0s 33ms/step - loss: 0.1226 - val_loss: 0.0899\n",
      "Epoch 82/600\n"
     ]
    },
    {
     "name": "stdout",
     "output_type": "stream",
     "text": [
      "14/14 [==============================] - 0s 27ms/step - loss: 0.1018 - val_loss: 0.0906\n",
      "Epoch 83/600\n",
      "14/14 [==============================] - 0s 25ms/step - loss: 0.1038 - val_loss: 0.0933\n",
      "Epoch 84/600\n",
      "14/14 [==============================] - 0s 26ms/step - loss: 0.0858 - val_loss: 0.0849\n",
      "Epoch 85/600\n",
      "14/14 [==============================] - 0s 25ms/step - loss: 0.1166 - val_loss: 0.0901\n",
      "Epoch 86/600\n",
      "14/14 [==============================] - 0s 25ms/step - loss: 0.1182 - val_loss: 0.1025\n",
      "Epoch 87/600\n",
      "14/14 [==============================] - 0s 26ms/step - loss: 0.1278 - val_loss: 0.0891\n",
      "Epoch 88/600\n",
      "14/14 [==============================] - 0s 25ms/step - loss: 0.0957 - val_loss: 0.0869\n",
      "Epoch 89/600\n",
      "14/14 [==============================] - 0s 25ms/step - loss: 0.1201 - val_loss: 0.1004\n",
      "Epoch 90/600\n",
      "14/14 [==============================] - 0s 25ms/step - loss: 0.0822 - val_loss: 0.0846\n",
      "Epoch 91/600\n",
      "14/14 [==============================] - 0s 25ms/step - loss: 0.1218 - val_loss: 0.0905\n",
      "Epoch 92/600\n",
      "14/14 [==============================] - 0s 29ms/step - loss: 0.1102 - val_loss: 0.1041\n",
      "Epoch 93/600\n",
      "14/14 [==============================] - 0s 27ms/step - loss: 0.0914 - val_loss: 0.0931\n",
      "Epoch 94/600\n",
      "14/14 [==============================] - 0s 26ms/step - loss: 0.0868 - val_loss: 0.0880\n",
      "Epoch 95/600\n",
      "14/14 [==============================] - 0s 25ms/step - loss: 0.0923 - val_loss: 0.0852\n",
      "Epoch 96/600\n",
      "14/14 [==============================] - 0s 26ms/step - loss: 0.0876 - val_loss: 0.0849\n",
      "Epoch 97/600\n",
      "14/14 [==============================] - 0s 26ms/step - loss: 0.0659 - val_loss: 0.0946\n",
      "Epoch 98/600\n",
      "14/14 [==============================] - 0s 27ms/step - loss: 0.1276 - val_loss: 0.1142\n",
      "Epoch 99/600\n",
      "14/14 [==============================] - 0s 27ms/step - loss: 0.0966 - val_loss: 0.0813\n",
      "Epoch 100/600\n",
      "14/14 [==============================] - 0s 27ms/step - loss: 0.1182 - val_loss: 0.0878\n",
      "Epoch 101/600\n",
      "14/14 [==============================] - 0s 27ms/step - loss: 0.0875 - val_loss: 0.1116\n",
      "Epoch 102/600\n",
      "14/14 [==============================] - 0s 28ms/step - loss: 0.1102 - val_loss: 0.1003\n",
      "Epoch 103/600\n",
      "14/14 [==============================] - 0s 26ms/step - loss: 0.0754 - val_loss: 0.0838\n",
      "Epoch 104/600\n",
      "14/14 [==============================] - 0s 25ms/step - loss: 0.1064 - val_loss: 0.1130\n",
      "Epoch 105/600\n",
      "14/14 [==============================] - 0s 26ms/step - loss: 0.1056 - val_loss: 0.0972\n",
      "Epoch 106/600\n",
      "14/14 [==============================] - 0s 26ms/step - loss: 0.0931 - val_loss: 0.1042\n",
      "Epoch 107/600\n",
      "14/14 [==============================] - 0s 28ms/step - loss: 0.1104 - val_loss: 0.0987\n",
      "Epoch 108/600\n",
      "14/14 [==============================] - 0s 26ms/step - loss: 0.1142 - val_loss: 0.0897\n",
      "Epoch 109/600\n",
      "14/14 [==============================] - 0s 27ms/step - loss: 0.0965 - val_loss: 0.0940\n",
      "Epoch 110/600\n",
      "14/14 [==============================] - 0s 27ms/step - loss: 0.1016 - val_loss: 0.1021\n",
      "Epoch 111/600\n",
      "14/14 [==============================] - 0s 26ms/step - loss: 0.1023 - val_loss: 0.0872\n",
      "Epoch 112/600\n",
      "14/14 [==============================] - 0s 26ms/step - loss: 0.0999 - val_loss: 0.0940\n",
      "Epoch 113/600\n",
      "14/14 [==============================] - 0s 26ms/step - loss: 0.1074 - val_loss: 0.0973\n",
      "Epoch 114/600\n",
      "14/14 [==============================] - 0s 26ms/step - loss: 0.0782 - val_loss: 0.0915\n",
      "Epoch 115/600\n",
      "14/14 [==============================] - 0s 25ms/step - loss: 0.0795 - val_loss: 0.1014\n",
      "Epoch 116/600\n",
      "14/14 [==============================] - 0s 25ms/step - loss: 0.0894 - val_loss: 0.0888\n",
      "Epoch 117/600\n",
      "14/14 [==============================] - 0s 25ms/step - loss: 0.0925 - val_loss: 0.1047\n",
      "Epoch 118/600\n",
      "14/14 [==============================] - 0s 27ms/step - loss: 0.1004 - val_loss: 0.0943\n",
      "Epoch 119/600\n",
      "14/14 [==============================] - 0s 25ms/step - loss: 0.0950 - val_loss: 0.0892\n",
      "Epoch 120/600\n",
      "14/14 [==============================] - 0s 25ms/step - loss: 0.0904 - val_loss: 0.0930\n",
      "Epoch 121/600\n",
      "14/14 [==============================] - 0s 25ms/step - loss: 0.0836 - val_loss: 0.0897\n",
      "Epoch 122/600\n",
      "14/14 [==============================] - 0s 25ms/step - loss: 0.0933 - val_loss: 0.0981\n",
      "Epoch 123/600\n",
      "14/14 [==============================] - 0s 25ms/step - loss: 0.0867 - val_loss: 0.0998\n",
      "Epoch 124/600\n",
      "14/14 [==============================] - 0s 25ms/step - loss: 0.1098 - val_loss: 0.0915\n",
      "Epoch 124: early stopping\n"
     ]
    },
    {
     "data": {
      "text/plain": [
       "<keras.callbacks.History at 0x15a8e3fd250>"
      ]
     },
     "execution_count": 18,
     "metadata": {},
     "output_type": "execute_result"
    }
   ],
   "source": [
    "model.fit(x=X_train, \n",
    "          y=y_train, \n",
    "          epochs=600,\n",
    "          validation_data=(X_test, y_test), verbose=1,\n",
    "          callbacks=[early_stop,board]\n",
    "          )"
   ]
  },
  {
   "cell_type": "markdown",
   "id": "d17eab4d",
   "metadata": {},
   "source": [
    "# running tensorboard"
   ]
  },
  {
   "cell_type": "code",
   "execution_count": 19,
   "id": "176d6f15",
   "metadata": {},
   "outputs": [
    {
     "name": "stdout",
     "output_type": "stream",
     "text": [
      "logs\\fit\n"
     ]
    }
   ],
   "source": [
    "print(log_directory)"
   ]
  },
  {
   "cell_type": "code",
   "execution_count": 20,
   "id": "67fd3e5f",
   "metadata": {},
   "outputs": [],
   "source": [
    "# after you cd into the directory on the comand line run"
   ]
  },
  {
   "cell_type": "code",
   "execution_count": 21,
   "id": "c6313431",
   "metadata": {},
   "outputs": [],
   "source": [
    "# tensorboard --logdir logs\\fit "
   ]
  },
  {
   "cell_type": "code",
   "execution_count": null,
   "id": "f2e82f0d",
   "metadata": {},
   "outputs": [],
   "source": []
  }
 ],
 "metadata": {
  "kernelspec": {
   "display_name": "Python 3 (ipykernel)",
   "language": "python",
   "name": "python3"
  },
  "language_info": {
   "codemirror_mode": {
    "name": "ipython",
    "version": 3
   },
   "file_extension": ".py",
   "mimetype": "text/x-python",
   "name": "python",
   "nbconvert_exporter": "python",
   "pygments_lexer": "ipython3",
   "version": "3.9.13"
  }
 },
 "nbformat": 4,
 "nbformat_minor": 5
}
