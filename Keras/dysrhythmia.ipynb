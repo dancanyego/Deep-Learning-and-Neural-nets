{
 "cells": [
  {
   "cell_type": "code",
   "execution_count": 7,
   "id": "55599088",
   "metadata": {},
   "outputs": [],
   "source": [
    "import pandas as pd\n",
    "import numpy as np\n",
    "import seaborn as sns\n",
    "import matplotlib.pyplot as plt\n",
    "import warnings\n",
    "import wfdb\n",
    "\n",
    "%matplotlib inline\n",
    "warnings.filterwarnings('ignore')"
   ]
  },
  {
   "cell_type": "code",
   "execution_count": 14,
   "id": "207a9816",
   "metadata": {},
   "outputs": [],
   "source": [
    "data = '../DATA/dysrhythmia_data/dysrhythmia/'"
   ]
  },
  {
   "cell_type": "code",
   "execution_count": 15,
   "id": "4bbbf798",
   "metadata": {},
   "outputs": [],
   "source": [
    "# list of patients\n",
    "pts = ['100','101','102','103','104','105','106','107',\n",
    "       '108','109','111','112','113','114','115','116',\n",
    "       '117','118','119','121','122','123','124','200',\n",
    "       '201','202','203','205','207','208','209','210',\n",
    "       '212','213','214','215','217','219','220','221',\n",
    "       '222','223','228','230','231','232','233','234']"
   ]
  },
  {
   "cell_type": "code",
   "execution_count": 13,
   "id": "a5600671",
   "metadata": {
    "scrolled": true
   },
   "outputs": [
    {
     "ename": "FileNotFoundError",
     "evalue": "[Errno 2] No such file or directory: '../DATA/dysrhythmia_data/x_108.atr'",
     "output_type": "error",
     "traceback": [
      "\u001b[1;31m---------------------------------------------------------------------------\u001b[0m",
      "\u001b[1;31mFileNotFoundError\u001b[0m                         Traceback (most recent call last)",
      "Cell \u001b[1;32mIn[13], line 5\u001b[0m\n\u001b[0;32m      3\u001b[0m \u001b[38;5;28;01mfor\u001b[39;00m pt \u001b[38;5;129;01min\u001b[39;00m pts:\n\u001b[0;32m      4\u001b[0m     file \u001b[38;5;241m=\u001b[39m data \u001b[38;5;241m+\u001b[39m pt\n\u001b[1;32m----> 5\u001b[0m     annotation \u001b[38;5;241m=\u001b[39m \u001b[43mwfdb\u001b[49m\u001b[38;5;241;43m.\u001b[39;49m\u001b[43mrdann\u001b[49m\u001b[43m(\u001b[49m\u001b[43mfile\u001b[49m\u001b[43m,\u001b[49m\u001b[43m \u001b[49m\u001b[38;5;124;43m'\u001b[39;49m\u001b[38;5;124;43matr\u001b[39;49m\u001b[38;5;124;43m'\u001b[39;49m\u001b[43m)\u001b[49m\n\u001b[0;32m      6\u001b[0m     sym \u001b[38;5;241m=\u001b[39m annotation\u001b[38;5;241m.\u001b[39msymbol\n\u001b[0;32m      8\u001b[0m     values, counts \u001b[38;5;241m=\u001b[39m np\u001b[38;5;241m.\u001b[39munique(sym, return_counts\u001b[38;5;241m=\u001b[39m\u001b[38;5;28;01mTrue\u001b[39;00m)\n",
      "File \u001b[1;32mD:\\anaconda\\lib\\site-packages\\wfdb\\io\\annotation.py:1950\u001b[0m, in \u001b[0;36mrdann\u001b[1;34m(record_name, extension, sampfrom, sampto, shift_samps, pn_dir, return_label_elements, summarize_labels)\u001b[0m\n\u001b[0;32m   1945\u001b[0m return_label_elements \u001b[38;5;241m=\u001b[39m check_read_inputs(\n\u001b[0;32m   1946\u001b[0m     sampfrom, sampto, return_label_elements\n\u001b[0;32m   1947\u001b[0m )\n\u001b[0;32m   1949\u001b[0m \u001b[38;5;66;03m# Read the file in byte pairs\u001b[39;00m\n\u001b[1;32m-> 1950\u001b[0m filebytes \u001b[38;5;241m=\u001b[39m \u001b[43mload_byte_pairs\u001b[49m\u001b[43m(\u001b[49m\u001b[43mrecord_name\u001b[49m\u001b[43m,\u001b[49m\u001b[43m \u001b[49m\u001b[43mextension\u001b[49m\u001b[43m,\u001b[49m\u001b[43m \u001b[49m\u001b[43mpn_dir\u001b[49m\u001b[43m)\u001b[49m\n\u001b[0;32m   1952\u001b[0m \u001b[38;5;66;03m# Get WFDB annotation fields from the file bytes\u001b[39;00m\n\u001b[0;32m   1953\u001b[0m (sample, label_store, subtype, chan, num, aux_note) \u001b[38;5;241m=\u001b[39m proc_ann_bytes(\n\u001b[0;32m   1954\u001b[0m     filebytes, sampto\n\u001b[0;32m   1955\u001b[0m )\n",
      "File \u001b[1;32mD:\\anaconda\\lib\\site-packages\\wfdb\\io\\annotation.py:2091\u001b[0m, in \u001b[0;36mload_byte_pairs\u001b[1;34m(record_name, extension, pn_dir)\u001b[0m\n\u001b[0;32m   2089\u001b[0m \u001b[38;5;66;03m# local file\u001b[39;00m\n\u001b[0;32m   2090\u001b[0m \u001b[38;5;28;01mif\u001b[39;00m pn_dir \u001b[38;5;129;01mis\u001b[39;00m \u001b[38;5;28;01mNone\u001b[39;00m:\n\u001b[1;32m-> 2091\u001b[0m     \u001b[38;5;28;01mwith\u001b[39;00m \u001b[38;5;28;43mopen\u001b[39;49m\u001b[43m(\u001b[49m\u001b[43mrecord_name\u001b[49m\u001b[43m \u001b[49m\u001b[38;5;241;43m+\u001b[39;49m\u001b[43m \u001b[49m\u001b[38;5;124;43m\"\u001b[39;49m\u001b[38;5;124;43m.\u001b[39;49m\u001b[38;5;124;43m\"\u001b[39;49m\u001b[43m \u001b[49m\u001b[38;5;241;43m+\u001b[39;49m\u001b[43m \u001b[49m\u001b[43mextension\u001b[49m\u001b[43m,\u001b[49m\u001b[43m \u001b[49m\u001b[38;5;124;43m\"\u001b[39;49m\u001b[38;5;124;43mrb\u001b[39;49m\u001b[38;5;124;43m\"\u001b[39;49m\u001b[43m)\u001b[49m \u001b[38;5;28;01mas\u001b[39;00m f:\n\u001b[0;32m   2092\u001b[0m         filebytes \u001b[38;5;241m=\u001b[39m np\u001b[38;5;241m.\u001b[39mfromfile(f, \u001b[38;5;124m\"\u001b[39m\u001b[38;5;124m<u1\u001b[39m\u001b[38;5;124m\"\u001b[39m)\u001b[38;5;241m.\u001b[39mreshape([\u001b[38;5;241m-\u001b[39m\u001b[38;5;241m1\u001b[39m, \u001b[38;5;241m2\u001b[39m])\n\u001b[0;32m   2093\u001b[0m \u001b[38;5;66;03m# PhysioNet file\u001b[39;00m\n\u001b[0;32m   2094\u001b[0m \u001b[38;5;28;01melse\u001b[39;00m:\n",
      "\u001b[1;31mFileNotFoundError\u001b[0m: [Errno 2] No such file or directory: '../DATA/dysrhythmia_data/x_108.atr'"
     ]
    }
   ],
   "source": [
    "df = pd.DataFrame()\n",
    "\n",
    "for pt in pts:\n",
    "    file = data + pt\n",
    "    annotation = wfdb.rdann(file, 'atr')\n",
    "    sym = annotation.symbol\n",
    "    \n",
    "    values, counts = np.unique(sym, return_counts=True)\n",
    "    df_sub = pd.DataFrame({'sym':values, 'val':counts, 'pt':[pt]*len(counts)})\n",
    "    df = pd.concat([df, df_sub],axis = 0)"
   ]
  },
  {
   "cell_type": "code",
   "execution_count": null,
   "id": "900e1727",
   "metadata": {},
   "outputs": [],
   "source": []
  }
 ],
 "metadata": {
  "kernelspec": {
   "display_name": "Python 3 (ipykernel)",
   "language": "python",
   "name": "python3"
  },
  "language_info": {
   "codemirror_mode": {
    "name": "ipython",
    "version": 3
   },
   "file_extension": ".py",
   "mimetype": "text/x-python",
   "name": "python",
   "nbconvert_exporter": "python",
   "pygments_lexer": "ipython3",
   "version": "3.9.13"
  }
 },
 "nbformat": 4,
 "nbformat_minor": 5
}
